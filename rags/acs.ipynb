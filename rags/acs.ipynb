{
 "cells": [
  {
   "cell_type": "code",
   "execution_count": 1,
   "metadata": {},
   "outputs": [
    {
     "data": {
      "text/plain": [
       "True"
      ]
     },
     "execution_count": 1,
     "metadata": {},
     "output_type": "execute_result"
    }
   ],
   "source": [
    "import os\n",
    "import openai\n",
    "from langchain.embeddings import OpenAIEmbeddings\n",
    "from langchain.vectorstores import AzureSearch\n",
    "from dotenv import load_dotenv\n",
    "load_dotenv('.env')\n"
   ]
  },
  {
   "cell_type": "code",
   "execution_count": 2,
   "metadata": {},
   "outputs": [],
   "source": [
    "embeddings = OpenAIEmbeddings()\n",
    "\n",
    "# Connect to Azure Cognitive Search\n",
    "acs = AzureSearch(azure_search_endpoint=os.getenv('SEARCH_SERVICE_NAME'),\n",
    "                 azure_search_key=os.getenv('SEARCH_API_KEY'),\n",
    "                 index_name=os.getenv('SEARCH_INDEX_NAME'),\n",
    "                 embedding_function=embeddings.embed_query)"
   ]
  },
  {
   "cell_type": "code",
   "execution_count": 3,
   "metadata": {},
   "outputs": [],
   "source": [
    "from langchain.document_loaders import CSVLoader\n",
    "\n",
    "loader = CSVLoader(\"wine-ratings.csv\")\n",
    "documents = loader.load()"
   ]
  },
  {
   "cell_type": "code",
   "execution_count": 4,
   "metadata": {},
   "outputs": [],
   "source": [
    "from langchain.text_splitter import CharacterTextSplitter\n",
    "text_splitter = CharacterTextSplitter(chunk_size=500, chunk_overlap=0)\n",
    "docs = text_splitter.split_documents(documents)"
   ]
  },
  {
   "cell_type": "code",
   "execution_count": 5,
   "metadata": {},
   "outputs": [
    {
     "data": {
      "text/plain": [
       "['ZWQxZGI0MWUtMmYwZi00MjI2LTgzMTctMTk1NTNkYTM4Y2Vi',\n",
       " 'ZTkwYWE0YzAtY2MxYi00NGRmLWJiZmUtZDVkYjRiMjhiZWQw',\n",
       " 'MGQ1YzRmZTgtZTBlOC00YTMyLWE2ZmYtNTQzMjhlNzc3NWEy',\n",
       " 'OTBhYmIzNDItYTQ2Ny00MGY0LWFmMTYtNTUzMzRmYjlmY2Ew',\n",
       " 'NTA3YWQ0ZjYtOGE1ZC00NjM4LTkzZTMtNjAxMWE1MzUwNTg0',\n",
       " 'OTZkYWMzNTctNzg1YS00MWY2LWJkOGMtMTI3Y2JmYTBiMzNk',\n",
       " 'YjZhMmZkOTYtMTI4Zi00MjhiLTg2OWUtNzU0M2FiYTQwNmJl',\n",
       " 'ZjkzYzFkNDMtODNmNi00MWMxLWI5NjUtYTRjODE0MmZmMmM4',\n",
       " 'ZmRjNjE3MjAtMDFiZC00Y2I4LTgyMDctNzJkMWNhMjQ3YWYw',\n",
       " 'YmNhNTMzYWYtOTRkMi00NGM3LWFkNTItNDA2YzkwNzkxYzBh',\n",
       " 'ODlkM2I5MjctNDg2Ni00NDUzLWIzMDUtZWJiOGM3MDcxOWFk',\n",
       " 'ODZlY2ZiMzItOTM1Yy00OTc3LWE1NjItNWFlOWYwZmZmY2Y3',\n",
       " 'NWE0MGVhZWItMTJmMC00ZjA0LTg2YmMtMjcwYjdlYmExODBj',\n",
       " 'MDUxOGZjMDItMzY1Mi00ZmY5LWE1YjItZjJmYjFlMDAyODlj',\n",
       " 'NGMyNGFhYjMtZDM4Zi00ZTAzLTk4ZjItMzUxYzkzOGFmODE5',\n",
       " 'MmYzMDkyNDgtM2IwYS00ZWQyLTgwNDEtODExZDUzODc5ODMx',\n",
       " 'MTI3MDNjMzktYWM4Ni00NGUyLWIwYWEtYjRlYmFiNjgyMTQy',\n",
       " 'MWY5ZjFhYmUtZjQwMC00Y2I5LWE1YTAtZWVlZWJmOTk3ZWI2',\n",
       " 'YjFkYTEzYjktYWQ5Ni00ZjViLWFiNGQtYTk2ODZkYWIxMTgw',\n",
       " 'ZjEwNDRiNzItNmYxNi00MDBjLTgxNzEtMzkxYmQ5M2FiYzNh',\n",
       " 'ZDY1ODM2ZDEtZjE5Yi00MjhmLWIzMzctN2NlYWE0MmMwMGE5',\n",
       " 'OWQ4YmY1YTYtNjY0ZS00MDIxLTlhZTgtNTc2ZTFkY2ZiNDVk',\n",
       " 'NTYyZThlODgtZmE4OC00MGIxLThiMzctMTJhMDQ3NTdjN2Rh',\n",
       " 'ZGNkOWIzOTItMmMwZS00NDFlLWFkMzktODY5M2Q4MzYzOWI2',\n",
       " 'OTY0MzRiMWItNGYwYS00MjJmLWIxNTEtN2NiODQzNjUzZmJl',\n",
       " 'OGMxYTBhOTEtZjgyMy00ZmYwLWEwYjEtYmQxMTI5Y2U4Y2U1']"
      ]
     },
     "execution_count": 5,
     "metadata": {},
     "output_type": "execute_result"
    }
   ],
   "source": [
    "acs.add_documents(documents=docs)"
   ]
  },
  {
   "cell_type": "code",
   "execution_count": 6,
   "metadata": {},
   "outputs": [
    {
     "name": "stdout",
     "output_type": "stream",
     "text": [
      ": 11\n",
      "name: 14 Hands Cabernet Sauvignon 2015\n",
      "grape: \n",
      "region: Columbia Valley, Washington\n",
      "variety: Red Wine\n",
      "rating: 89.0\n",
      "notes: The 14 Hands Cabernet Sauvignon is a rich, juicy red that features aromas of dark cherry, black currant, coffee and subtle hints of spice. These flavors are complemented by a touch of spicy oak and emphasized by refined tannins.\n",
      "['Config', '__abstractmethods__', '__annotations__', '__class__', '__class_vars__', '__config__', '__custom_root_type__', '__delattr__', '__dict__', '__dir__', '__doc__', '__eq__', '__exclude_fields__', '__fields__', '__fields_set__', '__format__', '__ge__', '__get_validators__', '__getattribute__', '__getstate__', '__gt__', '__hash__', '__include_fields__', '__init__', '__init_subclass__', '__iter__', '__json_encoder__', '__le__', '__lt__', '__module__', '__ne__', '__new__', '__post_root_validators__', '__pre_root_validators__', '__pretty__', '__private_attributes__', '__reduce__', '__reduce_ex__', '__repr__', '__repr_args__', '__repr_name__', '__repr_str__', '__rich_repr__', '__schema_cache__', '__setattr__', '__setstate__', '__signature__', '__sizeof__', '__slots__', '__str__', '__subclasshook__', '__try_update_forward_refs__', '__validators__', '_abc_impl', '_calculate_keys', '_copy_and_set_values', '_decompose_class', '_enforce_dict_if_root', '_get_value', '_init_private_attributes', '_iter', '_lc_kwargs', 'construct', 'copy', 'dict', 'from_orm', 'get_lc_namespace', 'is_lc_serializable', 'json', 'lc_attributes', 'lc_id', 'lc_secrets', 'metadata', 'page_content', 'parse_file', 'parse_obj', 'parse_raw', 'schema', 'schema_json', 'to_json', 'to_json_not_implemented', 'type', 'update_forward_refs', 'validate']\n"
     ]
    }
   ],
   "source": [
    "docs = acs.similarity_search_with_relevance_scores(\n",
    "    query=\"What is the best red wine available in the market?\",\n",
    "    k=5,\n",
    ")\n",
    "print(docs[0][0].page_content)\n",
    "print(dir(docs[0][0]))"
   ]
  },
  {
   "cell_type": "code",
   "execution_count": 10,
   "metadata": {},
   "outputs": [
    {
     "name": "stdout",
     "output_type": "stream",
     "text": [
      "<OpenAIObject chat.completion id=chatcmpl-9vFTUDC8ynFHC8CgLeFiigXrC6dRO at 0x124957290> JSON: {\n",
      "  \"id\": \"chatcmpl-9vFTUDC8ynFHC8CgLeFiigXrC6dRO\",\n",
      "  \"object\": \"chat.completion\",\n",
      "  \"created\": 1723431208,\n",
      "  \"model\": \"gpt-3.5-turbo-0125\",\n",
      "  \"choices\": [\n",
      "    {\n",
      "      \"index\": 0,\n",
      "      \"message\": {\n",
      "        \"role\": \"assistant\",\n",
      "        \"content\": \"I recommend trying the 14 Hands Cabernet Sauvignon 2015 from Columbia Valley, Washington. It has a rating of 89 points and offers rich flavors of dark cherry, black currant, coffee, and spice, with refined tannins.\",\n",
      "        \"refusal\": null\n",
      "      },\n",
      "      \"logprobs\": null,\n",
      "      \"finish_reason\": \"stop\"\n",
      "    }\n",
      "  ],\n",
      "  \"usage\": {\n",
      "    \"prompt_tokens\": 142,\n",
      "    \"completion_tokens\": 52,\n",
      "    \"total_tokens\": 194\n",
      "  },\n",
      "  \"system_fingerprint\": null\n",
      "}\n",
      "I recommend trying the 14 Hands Cabernet Sauvignon 2015 from Columbia Valley, Washington. It has a rating of 89 points and offers rich flavors of dark cherry, black currant, coffee, and spice, with refined tannins.\n"
     ]
    }
   ],
   "source": [
    "# openai.api_base = os.getenv(\"OPENAI_API_BASE\")  # Your Azure OpenAI resource's endpoint value.\n",
    "openai.api_key = os.getenv(\"OPENAI_API_KEY\")\n",
    "# openai.api_type = \"azure\"\n",
    "# openai.api_version = \"2023-05-15\" \n",
    "messages=[\n",
    "    {\"role\": \"system\", \"content\": \"Asisstant is a chatbot that helps you find the best wine for your taste.\"},\n",
    "    {\"role\": \"user\", \"content\": \"What is the best wine in Oregon above 92 points?\"},\n",
    "    {\"role\": \"assistant\", \"content\": docs[0][0].page_content}\n",
    "]\n",
    "\n",
    "response = openai.ChatCompletion.create(\n",
    "    model=\"gpt-3.5-turbo\",\n",
    "    messages=messages,\n",
    ")\n",
    "from pprint import pprint\n",
    "pprint(response)\n",
    "print(response['choices'][0]['message']['content'])"
   ]
  },
  {
   "cell_type": "code",
   "execution_count": null,
   "metadata": {},
   "outputs": [],
   "source": []
  }
 ],
 "metadata": {
  "kernelspec": {
   "display_name": "rag",
   "language": "python",
   "name": "python3"
  },
  "language_info": {
   "codemirror_mode": {
    "name": "ipython",
    "version": 3
   },
   "file_extension": ".py",
   "mimetype": "text/x-python",
   "name": "python",
   "nbconvert_exporter": "python",
   "pygments_lexer": "ipython3",
   "version": "3.11.9"
  }
 },
 "nbformat": 4,
 "nbformat_minor": 2
}
