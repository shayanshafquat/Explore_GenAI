{
 "cells": [
  {
   "cell_type": "code",
   "execution_count": 1,
   "metadata": {},
   "outputs": [],
   "source": [
    "from openai import OpenAI\n",
    "client = OpenAI(\n",
    "    base_url=\"http://127.0.0.1:8080/v1\", # \"http://<Your api-server IP>:port\"\n",
    "    api_key = \"sk-no-key-required\"\n",
    ")"
   ]
  },
  {
   "cell_type": "code",
   "execution_count": 2,
   "metadata": {},
   "outputs": [
    {
     "name": "stdout",
     "output_type": "stream",
     "text": [
      " name,region,variety,rating,notes\n",
      "----------------------------------\n",
      "Chateau Lafite Rothschild,Pauillac,Bordeaux,France,Red Wine,98.5,\"Vintage conditions were ideal with a warm and dry growing season. The grapes were harvested in late September, allowing for full ripeness and optimal flavor development. The wine underwent a lengthy aging process in new oak barrels for 24 months, resulting in a rich and complex final product. \"\n",
      "\n",
      "Domaine de la Romanee-Conti Richebourg Grand Cru 2005,\"Burgundy,France,Red Wine,99.0,\"Richebourg is a renowned Grand Cru vineyard located in the Cote de Nuits region. The vines are planted on limestone and clay soil, which imparts unique mineral notes to the wine. The grapes were carefully hand-picked and underwent a traditional Burgundian winemaking process, including extended maceration and aging in oak barrels for 18 months. \"\n",
      "\n",
      "Penfolds Max's Shiraz 2008,\"McLaren Vale,South Australia,Australia,Red Wine,97.5,\"Max's Shiraz is a flagship wine from Penfolds, made from grapes sourced from select vineyards in McLaren Vale. The wine underwent a lengthy maturation process, including 18 months in new American oak barrels and a further 12 months in bottle before release. The resulting wine is rich, full-bodied, and complex, with notes of dark fruit, chocolate, and spice. \"\n",
      "\n",
      "Quilceda Creek Columbia Valley Cabernet Sauvignon 2012,\"Columbia Valley,Washington,USA,Red Wine,99.5,\"Quilceda Creek's Columbia Valley Cabernet Sauvignon is a blend of grapes sourced from various vineyards throughout the Columbia Valley. The wine underwent a traditional winemaking process, including extended maceration and aging in new French oak barrels for 24 months. The resulting wine is rich, full-bodied, and complex, with notes of dark fruit, tobacco, and leather. \"\n",
      "\n",
      "Chateau Margaux,Margaux,Bordeaux,France,Red Wine,98.8,\"Vintage conditions were ideal with a warm and dry growing season. The grapes were harvested in late September, allowing for full ripeness and optimal flavor development. The wine underwent a traditional Bordeaux winemaking process, including extended maceration and aging in oak barrels for 18-24 months. \"\n",
      "\n",
      "Robert Mondavi Winery To Kalon Vineyard Cabernet Sauvignon 2009,\"Oakville,Napa Valley,California,USA,Red Wine,99.2,\"To Kalon Vineyard is a renowned vineyard located in the Oakville region of Napa Valley. The grapes were carefully hand-picked and underwent a traditional winemaking process, including extended maceration and aging in new French oak barrels for 24 months. The resulting wine is rich, full-bodied, and complex, with notes of dark fruit, tobacco, and chocolate. \"\n",
      "\n",
      "Domaine Drouhin Oregon Pinot Noir 2015,\"Dundee Hills,Oregon,USA,Red Wine,97.3,\"Domaine Drouhin Oregon's Pinot Noir is a blend of grapes sourced from various vineyards in the Dundee Hills. The wine underwent a traditional winemaking process, including extended maceration and aging in French oak barrels for 12 months. The resulting wine is elegant and refined, with notes of red fruit, spice, and earth. \"\n",
      "\n",
      "Penfolds Bin 311 Chardonnay 2010,\"Adelaide Hills,South Australia,Australia,White Wine,98.6,\"Penfolds Bin 311 Chardonnay is a single vineyard wine sourced from grapes grown in the Adelaide Hills. The wine underwent a traditional winemaking process, including barrel fermentation and aging in French oak barrels for 12 months. The resulting wine is rich and complex, with notes of tropical fruit, vanilla, and butter. \"\n",
      "\n",
      "Chateau Montelena Chardonnay 2012,\"Calistoga,Napa Valley,California,USA,White Wine,99.1,\"Chateau Montelena's Chardonnay is a single vineyard wine sourced from grapes grown in the Calistoga region of Napa Valley. The wine underwent a traditional winemaking process, including barrel fermentation and aging in French oak barrels for 18 months. The resulting wine is rich and complex, with notes of citrus, butter, and vanilla. \"\n",
      "\n",
      "Robert Sinskey Vineyards Los Libros Vineyard Pinot Noir 2011,\"Santa Lucia Highlands,Monterey County,California,USA,Red Wine,98.9,\"Robert Sinskey Vineyards Los Libros Vineyard Pinot Noir is a single vineyard wine sourced from grapes grown in the Santa Lucia Highlands. The wine underwent a traditional winemaking process, including extended maceration and aging in French oak barrels for 14 months. The resulting wine is elegant and refined, with notes of red fruit, spice, and earth.</s>\n"
     ]
    }
   ],
   "source": [
    "content = \"\"\"\n",
    "I have the following CSV data:\n",
    "\n",
    "name,region,variety,rating,notes\n",
    "3 Rings Reserve Shiraz 2004,\"Barossa Valley, Barossa, South Australia, Australia\",Red Wine,96.0,\"Vintage Comments : Classic Barossa vintage conditions. An average wet Spring followed by extreme heat in early February. Occasional rainfall events kept the vines in good balance up to harvest in late March 2004. Very good quality coupled with good average yields. More than 30 months in wood followed by six months tank maturation of the blend prior to bottling, July 2007. \"\n",
    "Abreu Vineyards Cappella 2007,\"Napa Valley, California\",Red Wine,96.0,\"Cappella is a proprietary blend of two clones of Cabernet Sauvignon with Cabernet Franc, Petit Verdot and Merlot. The gravelly soil at Cappella produces fruit that is very elegant in structure. The resulting wine exhibits beautiful purity of fruit with fine grained and lengthy tannins. \"\n",
    "Abreu Vineyards Cappella 2010,\"Napa Valley, California\",Red Wine,98.0,\"Cappella is one of the oldest vineyard sites in St. Helena. Six acres that sit alongside a Catholic cemetery on the west side of town, it was first planted in 1869. In the 1980s the church asked David to tear out the old vines, then he watched as the land lay fallow for close to two decades. When he finally got the chance to replant, he jumped. He'd tasted fruit from Cappella in the 70s. He knew what kind of wine it could make. But that first replant was ill-fated thanks to diseased rootstock, and once again he was ripping out vines. “It took us six years before we had a crop. We could have ignored it, pulled the vines out one by one as they collapsed. But then we'd have all these different ripening patterns, which would impact consistency. It was an easy decision.”\"\n",
    "\n",
    "I would like you to generate synthetic data based on this input. Produce me 10 more examples of data formatted for CSVs to augment datasets.\"\"\"\n",
    "\n",
    "# Generate some output\n",
    "completion = client.chat.completions.create(\n",
    "    model=\"LLaMA_CPP\",\n",
    "    messages=[\n",
    "        {\"role\": \"system\", \"content\": \"You are a specialist in generating synthetic data based on inputs. You provide output formatted for CSVs to augment datasets.\"},\n",
    "        {\"role\": \"user\", \"content\": content}\n",
    "    ]\n",
    ")\n",
    "print(completion.choices[0].message.content)"
   ]
  },
  {
   "cell_type": "code",
   "execution_count": 3,
   "metadata": {},
   "outputs": [
    {
     "name": "stdout",
     "output_type": "stream",
     "text": [
      " name,region,variety,rating,notes\n",
      "----------------------------------\n",
      "Chateau Lafite Rothschild,Pauillac,Bordeaux,France,Red Wine,98.5,\"Vintage conditions were ideal with a warm and dry growing season. The grapes were harvested in late September, allowing for full ripeness and optimal flavor development. The wine underwent extended maceration and aging in new oak barrels for 24 months. \"\n",
      "Domaine de la Romanee-Conti,Grand Cru,Burgundy,France,Red Wine,99.0,\"The vineyard is known for its unique terroir, which produces grapes of exceptional quality. The wine undergoes rigorous selection during harvest and undergoes extended fermentation and aging in new oak barrels for up to 18 months. \"\n",
      "Penfolds Max's Shiraz,Barossa Valley,South Australia,Australia,Red Wine,95.5,\"The grapes were sourced from old vines in the Barossa Valley, which were dry-farmed to ensure optimal concentration. The wine underwent extended maceration and aging in new oak barrels for 18 months. \"\n",
      "Quilceda Creek Vintners,Cabernet Sauvignon,Columbia Valley,Washington,Red Wine,97.5,\"The vineyard is known for its unique terroir, which produces grapes with intense flavors and complex structure. The wine undergoes rigorous selection during harvest and undergoes extended fermentation and aging in new oak barrels for up to 36 months. \"\n",
      "Screaming Eagle,Cabernet Sauvignon,Napa Valley,California,Red Wine,100.0,\"The vineyard is located in a unique microclimate, which produces grapes of exceptional quality. The wine undergoes rigorous selection during harvest and undergoes extended fermentation and aging in new oak barrels for up to 48 months. \"\n",
      "Taylor's Quinta de Vargellas,Vintage Port,Douro Valley,Portugal,Red Wine,99.5,\"The grapes were sourced from the oldest and most prestigious vineyards in the Douro Valley. The wine undergoes traditional foot-treading and extended fermentation in oak vats. It is then aged in oak barrels for up to 10 years. \"\n",
      "Vega Sicilia,Unico,Ribera del Duero,Spain,Red Wine,98.5,\"The vineyard is known for its unique terroir, which produces grapes of exceptional quality. The wine undergoes rigorous selection during harvest and undergoes extended fermentation and aging in new oak barrels for up to 20 years. \"\n",
      "Viña Almaviva,Cabernet Sauvignon,Maipo Valley,Chile,Red Wine,97.0,\"The vineyard is located in a unique microclimate, which produces grapes with intense flavors and complex structure. The wine undergoes rigorous selection during harvest and undergoes extended fermentation and aging in new oak barrels for up to 12 months. \"\n",
      "Zdeta Maloloska,Merlot,Slovenia,Europe,Red Wine,96.5,\"The grapes were sourced from old vines in the Slovenian region of Dolenjska. The wine underwent extended maceration and aging in new oak barrels for 18 months. \"\n",
      "Chateau Margaux,Margaux,Bordeaux,France,Red Wine,99.5,\"The vineyard is known for its unique terroir, which produces grapes of exceptional quality. The wine undergoes rigorous selection during harvest and undergoes extended fermentation and aging in new oak barrels for up to 24 months.</s>\n"
     ]
    }
   ],
   "source": [
    "content = \"\"\"\n",
    "I have the following CSV data:\n",
    "\n",
    "name,region,variety,rating,notes\n",
    "3 Rings Reserve Shiraz 2004,\"Barossa Valley, Barossa, South Australia, Australia\",Red Wine,96.0,\"Vintage Comments : Classic Barossa vintage conditions. An average wet Spring followed by extreme heat in early February. Occasional rainfall events kept the vines in good balance up to harvest in late March 2004. Very good quality coupled with good average yields. More than 30 months in wood followed by six months tank maturation of the blend prior to bottling, July 2007. \"\n",
    "Abreu Vineyards Cappella 2007,\"Napa Valley, California\",Red Wine,96.0,\"Cappella is a proprietary blend of two clones of Cabernet Sauvignon with Cabernet Franc, Petit Verdot and Merlot. The gravelly soil at Cappella produces fruit that is very elegant in structure. The resulting wine exhibits beautiful purity of fruit with fine grained and lengthy tannins. \"\n",
    "Abreu Vineyards Cappella 2010,\"Napa Valley, California\",Red Wine,98.0,\"Cappella is one of the oldest vineyard sites in St. Helena. Six acres that sit alongside a Catholic cemetery on the west side of town, it was first planted in 1869. In the 1980s the church asked David to tear out the old vines, then he watched as the land lay fallow for close to two decades. When he finally got the chance to replant, he jumped. He'd tasted fruit from Cappella in the 70s. He knew what kind of wine it could make. But that first replant was ill-fated thanks to diseased rootstock, and once again he was ripping out vines. “It took us six years before we had a crop. We could have ignored it, pulled the vines out one by one as they collapsed. But then we'd have all these different ripening patterns, which would impact consistency. It was an easy decision.”\"\n",
    "\n",
    "I would like you to generate synthetic data based on this input. Produce me 10 more examples of data formatted for CSVs to augment datasets.\"\"\"\n",
    "\n",
    "system = \"\"\"Act as an API for generating synthetic data based on inputs. Provide output formatted for CSVs to augment datasets. Do not provide any other feedback, input, questions, or\n",
    "any other kind of text that will not be valid CSV based on the input received. When you reply, there is no need to provide the headers, just the data.\"\"\"\n",
    "# Generate some output\n",
    "completion = client.chat.completions.create(\n",
    "    model=\"LLaMA_CPP\",\n",
    "    messages=[\n",
    "        {\"role\": \"system\", \"content\": system},\n",
    "        {\"role\": \"user\", \"content\": content}\n",
    "    ]\n",
    ")\n",
    "print(completion.choices[0].message.content)"
   ]
  },
  {
   "cell_type": "code",
   "execution_count": null,
   "metadata": {},
   "outputs": [],
   "source": []
  }
 ],
 "metadata": {
  "kernelspec": {
   "display_name": "genai",
   "language": "python",
   "name": "python3"
  },
  "language_info": {
   "codemirror_mode": {
    "name": "ipython",
    "version": 3
   },
   "file_extension": ".py",
   "mimetype": "text/x-python",
   "name": "python",
   "nbconvert_exporter": "python",
   "pygments_lexer": "ipython3",
   "version": "3.11.9"
  }
 },
 "nbformat": 4,
 "nbformat_minor": 2
}
