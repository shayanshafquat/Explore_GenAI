{
 "cells": [
  {
   "cell_type": "code",
   "execution_count": 1,
   "metadata": {},
   "outputs": [],
   "source": [
    "import os"
   ]
  },
  {
   "cell_type": "code",
   "execution_count": 5,
   "metadata": {},
   "outputs": [
    {
     "data": {
      "text/plain": [
       "True"
      ]
     },
     "execution_count": 5,
     "metadata": {},
     "output_type": "execute_result"
    }
   ],
   "source": [
    "from dotenv import load_dotenv\n",
    "load_dotenv()"
   ]
  },
  {
   "cell_type": "code",
   "execution_count": 4,
   "metadata": {},
   "outputs": [],
   "source": [
    "os.environ[\"GROQ_API_KEY\"] = os.getenv(\"GROQ_API_KEY\")"
   ]
  },
  {
   "cell_type": "code",
   "execution_count": 6,
   "metadata": {},
   "outputs": [],
   "source": [
    "deployment_name = os.environ[\"AZURE_OPENAI_DEPLOYMENT_NAME\"]\n",
    "endpoint = os.environ[\"AZURE_OPENAI_ENDPOINT\"]\n",
    "api_key = os.environ[\"AZURE_OPENAI_API_KEY\"]"
   ]
  },
  {
   "cell_type": "code",
   "execution_count": 11,
   "metadata": {},
   "outputs": [],
   "source": [
    "import semantic_kernel as sk\n",
    "from semantic_kernel.connectors.ai.open_ai import AzureChatCompletion"
   ]
  },
  {
   "cell_type": "code",
   "execution_count": 9,
   "metadata": {},
   "outputs": [],
   "source": [
    "kernel = sk.Kernel()"
   ]
  },
  {
   "cell_type": "code",
   "execution_count": 12,
   "metadata": {},
   "outputs": [
    {
     "data": {
      "text/plain": [
       "<semantic_kernel.kernel.Kernel at 0x105235ed0>"
      ]
     },
     "execution_count": 12,
     "metadata": {},
     "output_type": "execute_result"
    }
   ],
   "source": [
    "kernel.add_chat_service(\"dv\", AzureChatCompletion(\n",
    "    deployment_name=deployment_name,\n",
    "    endpoint=endpoint,\n",
    "    api_key=api_key)\n",
    ")"
   ]
  },
  {
   "cell_type": "code",
   "execution_count": 28,
   "metadata": {},
   "outputs": [
    {
     "name": "stdout",
     "output_type": "stream",
     "text": [
      "There are several variables involved in making outstanding espresso, including:\n",
      "\n",
      "1. Roast: The roast level of the coffee beans can greatly affect the flavor of the espresso. Lighter roasts tend to have more acidity and fruitiness, while darker roasts have more bitterness and chocolate notes.\n",
      "\n",
      "Practical steps to practice and improve roast:\n",
      "\n",
      "- Experiment with different roast levels to find the one that suits your taste preferences.\n",
      "- Keep track of the roast level of the beans you use and note how it affects the flavor of your espresso.\n",
      "- Try different blends of beans to find the perfect combination for your taste.\n",
      "\n",
      "2. Grind: The grind size of the coffee beans is crucial in determining the extraction rate and flavor of the espresso. A finer grind will result in a slower extraction and a stronger, more intense flavor, while a coarser grind will result in a faster extraction and a weaker, less intense flavor.\n",
      "\n",
      "Practical steps to practice and improve grind:\n",
      "\n",
      "- Invest in a high-quality grinder that allows you to adjust the grind size precisely.\n",
      "- Experiment with different grind sizes to find the one that produces the best flavor for your taste.\n",
      "- Keep track of the grind size you use for different beans and adjust as necessary to achieve the desired flavor.\n",
      "\n",
      "3. Tamp: Tamping is\n"
     ]
    }
   ],
   "source": [
    "prompt = kernel.create_semantic_function(\"\"\"\n",
    "I need to understand what are the variables involved in making outstanding espresso besides\n",
    "a good machine. For example what is the combination of roast, grind, tamp, and water temperature.\n",
    "Include 3 practical steps to practice and improve each variable.\n",
    "\"\"\")\n",
    "\n",
    "# Run your prompt\n",
    "print(prompt())"
   ]
  },
  {
   "cell_type": "code",
   "execution_count": 17,
   "metadata": {},
   "outputs": [],
   "source": [
    "from semantic_kernel.skill_definition import sk_function, sk_function_context_parameter\n",
    "from semantic_kernel.orchestration.sk_context import SKContext"
   ]
  },
  {
   "cell_type": "code",
   "execution_count": 47,
   "metadata": {},
   "outputs": [],
   "source": [
    "class TravelWeather:\n",
    "    @sk_function(\n",
    "        description=\"Takes a city and a month and returns the average temperature for that month.\",\n",
    "        name=\"travel_weather\",\n",
    "    )\n",
    "    @sk_function_context_parameter(\n",
    "        name=\"city\", description=\"The city for which to get the average temperature.\"\n",
    "    )\n",
    "    @sk_function_context_parameter(\n",
    "        name=\"month\", description=\"The month for which to get the average temperature.\"\n",
    "    )\n",
    "    def weather(self, context: SKContext) -> str:\n",
    "        return f\"The average temperature in city in month is 75 degrees. {str(context.variables)}\"\n",
    "\n",
    "        city = context[\"city\"]\n",
    "        month = context[\"month\"]\n",
    "        return f\"The average temperature in {city} in {month} is 75 degrees.\""
   ]
  },
  {
   "cell_type": "code",
   "execution_count": 48,
   "metadata": {},
   "outputs": [],
   "source": [
    "weather_plugin = kernel.import_skill(TravelWeather(), skill_name=\"Travel\")"
   ]
  },
  {
   "cell_type": "code",
   "execution_count": 49,
   "metadata": {},
   "outputs": [],
   "source": [
    "prompt_config = sk.PromptTemplateConfig.from_completion_parameters(\n",
    "    max_tokens=200,\n",
    "    temperature=0.7,\n",
    "    top_p=0.8,\n",
    "    function_call=\"auto\",\n",
    "    chat_system_prompt=\"You are a travel weather chat bot. Your name is Frederick. You are trying to help people find the average temperature in a city in a month.\",\n",
    ")"
   ]
  },
  {
   "cell_type": "code",
   "execution_count": 50,
   "metadata": {},
   "outputs": [],
   "source": [
    "prompt_template = sk.ChatPromptTemplate(\n",
    "    \"{{$user_input}}\", kernel.prompt_template_engine, prompt_config\n",
    ")\n",
    "prompt_template.add_user_message(\"Hi there, who are you?\")\n",
    "prompt_template.add_assistant_message(\n",
    "    \"I am Frederic, a chat bot. I'm trying to figure out what people need.\"\n",
    ")"
   ]
  },
  {
   "cell_type": "code",
   "execution_count": 51,
   "metadata": {},
   "outputs": [],
   "source": [
    "function_config = sk.SemanticFunctionConfig(prompt_config, prompt_template)\n",
    "chat_function = kernel.register_semantic_function(\"ChatBot\", \"Chat\", function_config)\n",
    "functions = [\n",
    "    {\n",
    "        \"name\": \"travel_weather\",\n",
    "        \"description\": \"Finds the average temperature for a city in a month.\",\n",
    "        \"parameters\": {\n",
    "            \"type\": \"object\",\n",
    "            \"properties\": {\n",
    "                \"city\": {\n",
    "                    \"type\": \"string\",\n",
    "                    \"description\": \"The city for example Madrid\",\n",
    "                },\n",
    "                \"month\": {\n",
    "                    \"type\": \"string\",\n",
    "                    \"description\": \"The month of the year, for example June\",\n",
    "                },\n",
    "            },\n",
    "            \"required\": [\"city\", \"month\"],\n",
    "        },\n",
    "    }\n",
    "]"
   ]
  },
  {
   "cell_type": "code",
   "execution_count": 52,
   "metadata": {},
   "outputs": [],
   "source": [
    "context = kernel.create_new_context()"
   ]
  },
  {
   "cell_type": "code",
   "execution_count": 53,
   "metadata": {},
   "outputs": [],
   "source": [
    "context.variables[\"user_input\"] = \"What is the average temperature in Seattle in June?\"\n",
    "context = await chat_function.invoke_async(context=context, functions=functions)"
   ]
  },
  {
   "cell_type": "code",
   "execution_count": 43,
   "metadata": {},
   "outputs": [],
   "source": [
    "chat_function._chat_prompt_template.messages.append({\"role\": \"assistant\", \"content\": \"It is 85 degrees in Seattle in June\"})\n",
    "context = await chat_function.invoke_async(context=context, functions=functions)"
   ]
  },
  {
   "cell_type": "code",
   "execution_count": 54,
   "metadata": {},
   "outputs": [
    {
     "name": "stdout",
     "output_type": "stream",
     "text": [
      "No function was called\n",
      "Output was: \n"
     ]
    }
   ],
   "source": [
    "print(\"No function was called\")\n",
    "print(f\"Output was: {str(context)}\")"
   ]
  },
  {
   "cell_type": "code",
   "execution_count": null,
   "metadata": {},
   "outputs": [],
   "source": []
  }
 ],
 "metadata": {
  "kernelspec": {
   "display_name": "genai",
   "language": "python",
   "name": "python3"
  },
  "language_info": {
   "codemirror_mode": {
    "name": "ipython",
    "version": 3
   },
   "file_extension": ".py",
   "mimetype": "text/x-python",
   "name": "python",
   "nbconvert_exporter": "python",
   "pygments_lexer": "ipython3",
   "version": "3.11.9"
  }
 },
 "nbformat": 4,
 "nbformat_minor": 2
}
